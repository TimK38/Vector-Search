{
 "cells": [
  {
   "cell_type": "code",
   "execution_count": 2,
   "id": "80902d73",
   "metadata": {},
   "outputs": [],
   "source": [
    "import pandas as pd\n",
    "import numpy as np"
   ]
  },
  {
   "cell_type": "code",
   "execution_count": 3,
   "id": "89ccc553",
   "metadata": {},
   "outputs": [],
   "source": [
    "anime_description = pd.read_csv('data/anime_with_synopsis.csv')"
   ]
  },
  {
   "cell_type": "code",
   "execution_count": 15,
   "id": "29b7939a",
   "metadata": {},
   "outputs": [],
   "source": [
    "anime_description['sypnopsis_length'] = anime_description['sypnopsis'].apply(lambda x: len(str(x)))"
   ]
  },
  {
   "cell_type": "code",
   "execution_count": null,
   "id": "0dfbedbd",
   "metadata": {},
   "outputs": [],
   "source": [
    "# Filter out the anime with less than 100 characters and no synopsis information\n",
    "anime_description = anime_description[(anime_description.sypnopsis_length>100) & \n",
    "                                      (anime_description.sypnopsis.str.contains(\"No synopsis information has been\")==False)]"
   ]
  },
  {
   "cell_type": "code",
   "execution_count": 24,
   "id": "ec369759",
   "metadata": {},
   "outputs": [
    {
     "data": {
      "text/html": [
       "<div>\n",
       "<style scoped>\n",
       "    .dataframe tbody tr th:only-of-type {\n",
       "        vertical-align: middle;\n",
       "    }\n",
       "\n",
       "    .dataframe tbody tr th {\n",
       "        vertical-align: top;\n",
       "    }\n",
       "\n",
       "    .dataframe thead th {\n",
       "        text-align: right;\n",
       "    }\n",
       "</style>\n",
       "<table border=\"1\" class=\"dataframe\">\n",
       "  <thead>\n",
       "    <tr style=\"text-align: right;\">\n",
       "      <th></th>\n",
       "      <th>MAL_ID</th>\n",
       "      <th>Name</th>\n",
       "      <th>Score</th>\n",
       "      <th>Genres</th>\n",
       "      <th>sypnopsis</th>\n",
       "      <th>sypnopsis_length</th>\n",
       "    </tr>\n",
       "  </thead>\n",
       "  <tbody>\n",
       "    <tr>\n",
       "      <th>0</th>\n",
       "      <td>1</td>\n",
       "      <td>Cowboy Bebop</td>\n",
       "      <td>8.78</td>\n",
       "      <td>Action, Adventure, Comedy, Drama, Sci-Fi, Space</td>\n",
       "      <td>In the year 2071, humanity has colonized sever...</td>\n",
       "      <td>1063</td>\n",
       "    </tr>\n",
       "    <tr>\n",
       "      <th>1</th>\n",
       "      <td>5</td>\n",
       "      <td>Cowboy Bebop: Tengoku no Tobira</td>\n",
       "      <td>8.39</td>\n",
       "      <td>Action, Drama, Mystery, Sci-Fi, Space</td>\n",
       "      <td>other day, another bounty—such is the life of ...</td>\n",
       "      <td>857</td>\n",
       "    </tr>\n",
       "    <tr>\n",
       "      <th>2</th>\n",
       "      <td>6</td>\n",
       "      <td>Trigun</td>\n",
       "      <td>8.24</td>\n",
       "      <td>Action, Sci-Fi, Adventure, Comedy, Drama, Shounen</td>\n",
       "      <td>Vash the Stampede is the man with a $$60,000,0...</td>\n",
       "      <td>1005</td>\n",
       "    </tr>\n",
       "    <tr>\n",
       "      <th>3</th>\n",
       "      <td>7</td>\n",
       "      <td>Witch Hunter Robin</td>\n",
       "      <td>7.27</td>\n",
       "      <td>Action, Mystery, Police, Supernatural, Drama, ...</td>\n",
       "      <td>ches are individuals with special powers like ...</td>\n",
       "      <td>435</td>\n",
       "    </tr>\n",
       "    <tr>\n",
       "      <th>4</th>\n",
       "      <td>8</td>\n",
       "      <td>Bouken Ou Beet</td>\n",
       "      <td>6.98</td>\n",
       "      <td>Adventure, Fantasy, Shounen, Supernatural</td>\n",
       "      <td>It is the dark century and the people are suff...</td>\n",
       "      <td>721</td>\n",
       "    </tr>\n",
       "    <tr>\n",
       "      <th>...</th>\n",
       "      <td>...</td>\n",
       "      <td>...</td>\n",
       "      <td>...</td>\n",
       "      <td>...</td>\n",
       "      <td>...</td>\n",
       "      <td>...</td>\n",
       "    </tr>\n",
       "    <tr>\n",
       "      <th>16205</th>\n",
       "      <td>48466</td>\n",
       "      <td>Kyoukai Senki</td>\n",
       "      <td>Unknown</td>\n",
       "      <td>Action, Mecha</td>\n",
       "      <td>In the year 2061 AD, Japan has lost its sovere...</td>\n",
       "      <td>540</td>\n",
       "    </tr>\n",
       "    <tr>\n",
       "      <th>16206</th>\n",
       "      <td>48470</td>\n",
       "      <td>D_Cide Traumerei</td>\n",
       "      <td>Unknown</td>\n",
       "      <td>Action, Adventure, Drama, Magic, Fantasy</td>\n",
       "      <td>The stage is Shibuya. When Ryuuhei Oda was in ...</td>\n",
       "      <td>478</td>\n",
       "    </tr>\n",
       "    <tr>\n",
       "      <th>16207</th>\n",
       "      <td>48471</td>\n",
       "      <td>Tsuki to Laika to Nosferatu</td>\n",
       "      <td>Unknown</td>\n",
       "      <td>Sci-Fi, Space, Vampire</td>\n",
       "      <td>The first astronaut in human history was a vam...</td>\n",
       "      <td>935</td>\n",
       "    </tr>\n",
       "    <tr>\n",
       "      <th>16210</th>\n",
       "      <td>48483</td>\n",
       "      <td>Mieruko-chan</td>\n",
       "      <td>Unknown</td>\n",
       "      <td>Comedy, Horror, Supernatural</td>\n",
       "      <td>ko is a typical high school student whose life...</td>\n",
       "      <td>548</td>\n",
       "    </tr>\n",
       "    <tr>\n",
       "      <th>16213</th>\n",
       "      <td>48492</td>\n",
       "      <td>Scarlet Nexus</td>\n",
       "      <td>Unknown</td>\n",
       "      <td>Action, Fantasy</td>\n",
       "      <td>Solar calendar year 2020: grotesque organisms ...</td>\n",
       "      <td>422</td>\n",
       "    </tr>\n",
       "  </tbody>\n",
       "</table>\n",
       "<p>11722 rows × 6 columns</p>\n",
       "</div>"
      ],
      "text/plain": [
       "       MAL_ID                             Name    Score  \\\n",
       "0           1                     Cowboy Bebop     8.78   \n",
       "1           5  Cowboy Bebop: Tengoku no Tobira     8.39   \n",
       "2           6                           Trigun     8.24   \n",
       "3           7               Witch Hunter Robin     7.27   \n",
       "4           8                   Bouken Ou Beet     6.98   \n",
       "...       ...                              ...      ...   \n",
       "16205   48466                    Kyoukai Senki  Unknown   \n",
       "16206   48470                 D_Cide Traumerei  Unknown   \n",
       "16207   48471      Tsuki to Laika to Nosferatu  Unknown   \n",
       "16210   48483                     Mieruko-chan  Unknown   \n",
       "16213   48492                    Scarlet Nexus  Unknown   \n",
       "\n",
       "                                                  Genres  \\\n",
       "0        Action, Adventure, Comedy, Drama, Sci-Fi, Space   \n",
       "1                  Action, Drama, Mystery, Sci-Fi, Space   \n",
       "2      Action, Sci-Fi, Adventure, Comedy, Drama, Shounen   \n",
       "3      Action, Mystery, Police, Supernatural, Drama, ...   \n",
       "4              Adventure, Fantasy, Shounen, Supernatural   \n",
       "...                                                  ...   \n",
       "16205                                      Action, Mecha   \n",
       "16206           Action, Adventure, Drama, Magic, Fantasy   \n",
       "16207                             Sci-Fi, Space, Vampire   \n",
       "16210                       Comedy, Horror, Supernatural   \n",
       "16213                                    Action, Fantasy   \n",
       "\n",
       "                                               sypnopsis  sypnopsis_length  \n",
       "0      In the year 2071, humanity has colonized sever...              1063  \n",
       "1      other day, another bounty—such is the life of ...               857  \n",
       "2      Vash the Stampede is the man with a $$60,000,0...              1005  \n",
       "3      ches are individuals with special powers like ...               435  \n",
       "4      It is the dark century and the people are suff...               721  \n",
       "...                                                  ...               ...  \n",
       "16205  In the year 2061 AD, Japan has lost its sovere...               540  \n",
       "16206  The stage is Shibuya. When Ryuuhei Oda was in ...               478  \n",
       "16207  The first astronaut in human history was a vam...               935  \n",
       "16210  ko is a typical high school student whose life...               548  \n",
       "16213  Solar calendar year 2020: grotesque organisms ...               422  \n",
       "\n",
       "[11722 rows x 6 columns]"
      ]
     },
     "execution_count": 24,
     "metadata": {},
     "output_type": "execute_result"
    }
   ],
   "source": [
    "anime_description"
   ]
  },
  {
   "cell_type": "markdown",
   "id": "8b394e13",
   "metadata": {},
   "source": [
    "# sentence to embedding"
   ]
  },
  {
   "cell_type": "code",
   "execution_count": null,
   "id": "f16a4f0c",
   "metadata": {},
   "outputs": [],
   "source": [
    "import numpy as np \n",
    "from sentence_transformers import SentenceTransformer\n",
    "\n",
    "# 載入模型\n",
    "model = SentenceTransformer('all-mpnet-base-v2')\n",
    "\n",
    "# 範例句子\n",
    "sentences = anime_description.sypnopsis.tolist()\n",
    "\n",
    "# 將句子轉成 embedding\n",
    "embeddings = model.encode(sentences)\n",
    "\n",
    "# 將 embedding 儲存到檔案\n",
    "np.save('data/anime_description_embeddings.npy', embeddings)\n"
   ]
  },
  {
   "cell_type": "code",
   "execution_count": 34,
   "id": "f61fb33a",
   "metadata": {},
   "outputs": [
    {
     "data": {
      "text/plain": [
       "(11722, 768)"
      ]
     },
     "execution_count": 34,
     "metadata": {},
     "output_type": "execute_result"
    }
   ],
   "source": [
    "embeddings.shape"
   ]
  },
  {
   "cell_type": "markdown",
   "id": "21823656",
   "metadata": {},
   "source": [
    "# qdrent table create"
   ]
  },
  {
   "cell_type": "code",
   "execution_count": 79,
   "id": "d165a90d",
   "metadata": {},
   "outputs": [],
   "source": [
    "from qdrant_client import QdrantClient\n",
    "from qdrant_client.http.models import VectorParams\n",
    "\n",
    "# 連線到本地 Qdrant\n",
    "client = QdrantClient(host=\"localhost\", port=6333)\n"
   ]
  },
  {
   "cell_type": "code",
   "execution_count": 75,
   "id": "dc5cc2ab",
   "metadata": {},
   "outputs": [
    {
     "name": "stderr",
     "output_type": "stream",
     "text": [
      "/var/folders/72/hrcb9td551ldh18btkrwf2dxs497zf/T/ipykernel_78447/606304013.py:2: DeprecationWarning: `recreate_collection` method is deprecated and will be removed in the future. Use `collection_exists` to check collection existence and `create_collection` instead.\n",
      "  client.recreate_collection(\n"
     ]
    },
    {
     "name": "stdout",
     "output_type": "stream",
     "text": [
      "Qdrant collection created successfully!\n"
     ]
    }
   ],
   "source": [
    "# 建立一個向量集合（collection）\n",
    "client.recreate_collection(\n",
    "    collection_name=\"anime_description_collection\",\n",
    "    vectors_config=VectorParams(size=768, distance=\"Cosine\")  # size 對應 embedding 維度\n",
    ")\n",
    "\n",
    "print(\"Qdrant collection created successfully!\")"
   ]
  },
  {
   "cell_type": "code",
   "execution_count": 76,
   "id": "ec1d2a86",
   "metadata": {},
   "outputs": [
    {
     "name": "stdout",
     "output_type": "stream",
     "text": [
      "collections=[CollectionDescription(name='anime_description_collection')]\n"
     ]
    }
   ],
   "source": [
    "# 查看 qdrant 的 collections\n",
    "print(client.get_collections())"
   ]
  },
  {
   "cell_type": "markdown",
   "id": "6abe6203",
   "metadata": {},
   "source": [
    "# update embeddings to qdrant"
   ]
  },
  {
   "cell_type": "code",
   "execution_count": 77,
   "id": "c3637454",
   "metadata": {},
   "outputs": [
    {
     "name": "stderr",
     "output_type": "stream",
     "text": [
      "Uploading batches: 100%|██████████| 118/118 [00:11<00:00, 10.54it/s]\n"
     ]
    }
   ],
   "source": [
    "from qdrant_client.http.models import PointStruct\n",
    "from tqdm import tqdm  # 進度條套件\n",
    "\n",
    "# 假設已經有 embedding 向量\n",
    "\n",
    "metadatas = anime_description[['MAL_ID', 'Name']].to_dict(orient=\"records\")\n",
    "\n",
    "def batch_upsert(client, collection_name, embeddings, metadatas, batch_size=100):\n",
    "    \"\"\"\n",
    "    分批將向量和 metadata 上傳到 Qdrant，MAL_ID 當作 id，並顯示進度條\n",
    "    \"\"\"\n",
    "    total = len(embeddings)\n",
    "    for start in tqdm(range(0, total, batch_size), desc=\"Uploading batches\"):\n",
    "        end = min(start + batch_size, total)\n",
    "        batch_embeddings = embeddings[start:end]\n",
    "        batch_metadata = metadatas[start:end]\n",
    "\n",
    "        points = [\n",
    "            PointStruct(id=metadata['MAL_ID'], vector=vec, payload=metadata)\n",
    "            for vec, metadata in zip(batch_embeddings, batch_metadata)\n",
    "        ]\n",
    "        client.upsert(collection_name=collection_name, points=points)\n",
    "\n",
    "# 範例使用\n",
    "batch_upsert(client, \"anime_description_collection\", embeddings, metadatas, batch_size=100)\n"
   ]
  },
  {
   "cell_type": "markdown",
   "id": "611190b6",
   "metadata": {},
   "source": [
    "# del collection"
   ]
  },
  {
   "cell_type": "code",
   "execution_count": 61,
   "id": "7e51675d",
   "metadata": {},
   "outputs": [
    {
     "name": "stdout",
     "output_type": "stream",
     "text": [
      "Collection 'anime_description_collection' 已刪除！\n"
     ]
    }
   ],
   "source": [
    "# 刪除整個 collection\n",
    "collection_name = 'anime_description_collection'\n",
    "\n",
    "client.delete_collection(collection_name=collection_name)\n",
    "\n",
    "print(f\"Collection '{collection_name}' 已刪除！\")"
   ]
  },
  {
   "cell_type": "markdown",
   "id": "501f4d3a",
   "metadata": {},
   "source": [
    "# 查詢相似動畫"
   ]
  },
  {
   "cell_type": "code",
   "execution_count": 48,
   "id": "3ef9e4aa",
   "metadata": {},
   "outputs": [
    {
     "data": {
      "text/html": [
       "<div>\n",
       "<style scoped>\n",
       "    .dataframe tbody tr th:only-of-type {\n",
       "        vertical-align: middle;\n",
       "    }\n",
       "\n",
       "    .dataframe tbody tr th {\n",
       "        vertical-align: top;\n",
       "    }\n",
       "\n",
       "    .dataframe thead th {\n",
       "        text-align: right;\n",
       "    }\n",
       "</style>\n",
       "<table border=\"1\" class=\"dataframe\">\n",
       "  <thead>\n",
       "    <tr style=\"text-align: right;\">\n",
       "      <th></th>\n",
       "      <th>MAL_ID</th>\n",
       "      <th>Name</th>\n",
       "      <th>Score</th>\n",
       "      <th>Genres</th>\n",
       "      <th>sypnopsis</th>\n",
       "      <th>sypnopsis_length</th>\n",
       "    </tr>\n",
       "  </thead>\n",
       "  <tbody>\n",
       "    <tr>\n",
       "      <th>192</th>\n",
       "      <td>223</td>\n",
       "      <td>Dragon Ball</td>\n",
       "      <td>8.0</td>\n",
       "      <td>Adventure, Comedy, Fantasy, Martial Arts, Shou...</td>\n",
       "      <td>Gokuu Son is a young boy who lives in the wood...</td>\n",
       "      <td>1153</td>\n",
       "    </tr>\n",
       "    <tr>\n",
       "      <th>193</th>\n",
       "      <td>225</td>\n",
       "      <td>Dragon Ball GT</td>\n",
       "      <td>6.48</td>\n",
       "      <td>Action, Sci-Fi, Adventure, Comedy, Super Power...</td>\n",
       "      <td>Emperor Pilaf finally has his hands on the Bla...</td>\n",
       "      <td>711</td>\n",
       "    </tr>\n",
       "    <tr>\n",
       "      <th>458</th>\n",
       "      <td>502</td>\n",
       "      <td>Dragon Ball Movie 1: Shen Long no Densetsu</td>\n",
       "      <td>6.83</td>\n",
       "      <td>Action, Adventure, Comedy, Fantasy, Shounen, S...</td>\n",
       "      <td>lling of Dragon Ball's origins, this is a diff...</td>\n",
       "      <td>287</td>\n",
       "    </tr>\n",
       "    <tr>\n",
       "      <th>716</th>\n",
       "      <td>813</td>\n",
       "      <td>Dragon Ball Z</td>\n",
       "      <td>8.16</td>\n",
       "      <td>Action, Adventure, Comedy, Fantasy, Martial Ar...</td>\n",
       "      <td>Five years after winning the World Martial Art...</td>\n",
       "      <td>1016</td>\n",
       "    </tr>\n",
       "    <tr>\n",
       "      <th>784</th>\n",
       "      <td>891</td>\n",
       "      <td>Dragon Ball Movie 2: Majinjou no Nemurihime</td>\n",
       "      <td>6.79</td>\n",
       "      <td>Action, Adventure, Comedy, Fantasy, Sci-Fi, Sh...</td>\n",
       "      <td>Goku and Kuririn are given an assignment by Ka...</td>\n",
       "      <td>221</td>\n",
       "    </tr>\n",
       "  </tbody>\n",
       "</table>\n",
       "</div>"
      ],
      "text/plain": [
       "     MAL_ID                                         Name Score  \\\n",
       "192     223                                  Dragon Ball   8.0   \n",
       "193     225                               Dragon Ball GT  6.48   \n",
       "458     502   Dragon Ball Movie 1: Shen Long no Densetsu  6.83   \n",
       "716     813                                Dragon Ball Z  8.16   \n",
       "784     891  Dragon Ball Movie 2: Majinjou no Nemurihime  6.79   \n",
       "\n",
       "                                                Genres  \\\n",
       "192  Adventure, Comedy, Fantasy, Martial Arts, Shou...   \n",
       "193  Action, Sci-Fi, Adventure, Comedy, Super Power...   \n",
       "458  Action, Adventure, Comedy, Fantasy, Shounen, S...   \n",
       "716  Action, Adventure, Comedy, Fantasy, Martial Ar...   \n",
       "784  Action, Adventure, Comedy, Fantasy, Sci-Fi, Sh...   \n",
       "\n",
       "                                             sypnopsis  sypnopsis_length  \n",
       "192  Gokuu Son is a young boy who lives in the wood...              1153  \n",
       "193  Emperor Pilaf finally has his hands on the Bla...               711  \n",
       "458  lling of Dragon Ball's origins, this is a diff...               287  \n",
       "716  Five years after winning the World Martial Art...              1016  \n",
       "784  Goku and Kuririn are given an assignment by Ka...               221  "
      ]
     },
     "execution_count": 48,
     "metadata": {},
     "output_type": "execute_result"
    }
   ],
   "source": [
    "# Dragon Ball 七龍珠為例\n",
    "anime_description[anime_description.Name.str.contains('Dragon Ball')].head(5)"
   ]
  },
  {
   "cell_type": "code",
   "execution_count": 69,
   "id": "629151f7",
   "metadata": {},
   "outputs": [
    {
     "name": "stdout",
     "output_type": "stream",
     "text": [
      "Top 10 similar MAL_IDs to 223:\n",
      "MAL_ID: 223, Name: Dragon Ball, Score: 1.0000\n",
      "MAL_ID: 6033, Name: Dragon Ball Kai, Score: 0.7925\n",
      "MAL_ID: 813, Name: Dragon Ball Z, Score: 0.7782\n",
      "MAL_ID: 36946, Name: Dragon Ball Super Movie: Broly, Score: 0.6664\n",
      "MAL_ID: 225, Name: Dragon Ball GT, Score: 0.6609\n",
      "MAL_ID: 14837, Name: Dragon Ball Z Movie 14: Kami to Kami, Score: 0.6578\n",
      "MAL_ID: 30694, Name: Dragon Ball Super, Score: 0.6364\n",
      "MAL_ID: 2409, Name: Gokudou-kun Manyuuki, Score: 0.6321\n",
      "MAL_ID: 894, Name: Dragon Ball Z Movie 01: Ora no Gohan wo Kaese!!, Score: 0.6295\n",
      "MAL_ID: 20189, Name: Boku no Son Gokuu, Score: 0.6082\n"
     ]
    },
    {
     "name": "stderr",
     "output_type": "stream",
     "text": [
      "/var/folders/72/hrcb9td551ldh18btkrwf2dxs497zf/T/ipykernel_78447/1261106129.py:21: DeprecationWarning: `search` method is deprecated and will be removed in the future. Use `query_points` instead.\n",
      "  similar_results = client.search(\n"
     ]
    }
   ],
   "source": [
    "from qdrant_client import QdrantClient\n",
    "\n",
    "# 初始化\n",
    "collection_name = \"anime_description_collection\"\n",
    "input_mal_id = 223\n",
    "\n",
    "search_result = client.retrieve(\n",
    "    collection_name=collection_name,\n",
    "    ids=[input_mal_id],\n",
    "    with_payload=True,\n",
    "    with_vectors=True\n",
    ")\n",
    "\n",
    "if not search_result:\n",
    "    raise ValueError(f\"MAL_ID {input_mal_id} not found in collection.\")\n",
    "\n",
    "# 拿到 embedding\n",
    "query_vector = search_result[0].vector\n",
    "\n",
    "# 2️⃣ 搜尋最相似的 10 個\n",
    "similar_results = client.search(\n",
    "    collection_name=collection_name,\n",
    "    query_vector=query_vector,\n",
    "    limit=10,\n",
    "    with_payload=True\n",
    ")\n",
    "\n",
    "# 3️⃣ 顯示結果\n",
    "print(f\"Top 10 similar MAL_IDs to {input_mal_id}:\")\n",
    "for r in similar_results:\n",
    "    mal_id = r.payload[\"MAL_ID\"]\n",
    "    name = r.payload.get(\"Name\", \"\")\n",
    "    score = r.score\n",
    "    print(f\"MAL_ID: {mal_id}, Name: {name}, Score: {score:.4f}\")\n"
   ]
  },
  {
   "cell_type": "code",
   "execution_count": 1,
   "id": "727b1f88",
   "metadata": {},
   "outputs": [
    {
     "name": "stderr",
     "output_type": "stream",
     "text": [
      "/opt/anaconda3/envs/VectorSearch/lib/python3.11/site-packages/tqdm/auto.py:21: TqdmWarning: IProgress not found. Please update jupyter and ipywidgets. See https://ipywidgets.readthedocs.io/en/stable/user_install.html\n",
      "  from .autonotebook import tqdm as notebook_tqdm\n"
     ]
    },
    {
     "name": "stdout",
     "output_type": "stream",
     "text": [
      "=== 動漫推薦系統設定 ===\n",
      "\n",
      "1. 處理動漫資料...\n",
      "載入資料: data/anime_with_synopsis.csv\n",
      "原始資料筆數: 16214\n",
      "篩選後資料筆數: 11722\n",
      "\n",
      "2. 生成文本向量...\n",
      "載入向量: data/anime_description_embeddings.npy\n",
      "向量載入完成，形狀: (11722, 768)\n",
      "\n",
      "3. 設定向量資料庫...\n",
      "連接到 Qdrant: localhost:6333\n",
      "連線建立成功\n",
      "使用既有集合: anime_description_collection_test\n",
      "\n",
      "=== 系統設定完成 ===\n",
      "\n",
      "=== 推薦結果 (共 10 部) ===\n",
      " 1. Dragon Ball (MAL_ID: 223) - 相似度: 1.0000\n",
      " 2. Dragon Ball Kai (MAL_ID: 6033) - 相似度: 0.7925\n",
      " 3. Dragon Ball Z (MAL_ID: 813) - 相似度: 0.7782\n",
      " 4. Dragon Ball Super Movie: Broly (MAL_ID: 36946) - 相似度: 0.6664\n",
      " 5. Dragon Ball GT (MAL_ID: 225) - 相似度: 0.6609\n",
      " 6. Dragon Ball Z Movie 14: Kami to Kami (MAL_ID: 14837) - 相似度: 0.6578\n",
      " 7. Dragon Ball Super (MAL_ID: 30694) - 相似度: 0.6364\n",
      " 8. Gokudou-kun Manyuuki (MAL_ID: 2409) - 相似度: 0.6321\n",
      " 9. Dragon Ball Z Movie 01: Ora no Gohan wo Kaese!! (MAL_ID: 894) - 相似度: 0.6295\n",
      "10. Boku no Son Gokuu (MAL_ID: 20189) - 相似度: 0.6082\n"
     ]
    }
   ],
   "source": [
    "from anime_recommender import AnimeRecommender\n",
    "\n",
    "# 建立推薦系統\n",
    "recommender = AnimeRecommender()\n",
    "recommender.setup_system()\n",
    "\n",
    "# 使用 MAL_ID 進行推薦\n",
    "mal_id = 223  # Dragon Ball\n",
    "recommendations = recommender.recommend_by_mal_id(mal_id, limit=10)\n",
    "recommender.display_recommendations(recommendations)"
   ]
  },
  {
   "cell_type": "code",
   "execution_count": 10,
   "id": "bf03cb15",
   "metadata": {},
   "outputs": [
    {
     "data": {
      "text/html": [
       "<div>\n",
       "<style scoped>\n",
       "    .dataframe tbody tr th:only-of-type {\n",
       "        vertical-align: middle;\n",
       "    }\n",
       "\n",
       "    .dataframe tbody tr th {\n",
       "        vertical-align: top;\n",
       "    }\n",
       "\n",
       "    .dataframe thead th {\n",
       "        text-align: right;\n",
       "    }\n",
       "</style>\n",
       "<table border=\"1\" class=\"dataframe\">\n",
       "  <thead>\n",
       "    <tr style=\"text-align: right;\">\n",
       "      <th></th>\n",
       "      <th>MAL_ID</th>\n",
       "      <th>Name</th>\n",
       "      <th>Score</th>\n",
       "      <th>Genres</th>\n",
       "      <th>sypnopsis</th>\n",
       "    </tr>\n",
       "  </thead>\n",
       "  <tbody>\n",
       "    <tr>\n",
       "      <th>203</th>\n",
       "      <td>235</td>\n",
       "      <td>Detective Conan</td>\n",
       "      <td>8.16</td>\n",
       "      <td>Adventure, Mystery, Comedy, Police, Shounen</td>\n",
       "      <td>Shinichi Kudou, a high school student of astou...</td>\n",
       "    </tr>\n",
       "    <tr>\n",
       "      <th>270</th>\n",
       "      <td>302</td>\n",
       "      <td>Mirai Shounen Conan</td>\n",
       "      <td>8.09</td>\n",
       "      <td>Adventure, Drama, Sci-Fi</td>\n",
       "      <td>Conan was the only child born on Remnant Islan...</td>\n",
       "    </tr>\n",
       "    <tr>\n",
       "      <th>691</th>\n",
       "      <td>779</td>\n",
       "      <td>Detective Conan Movie 01: The Timed Skyscraper</td>\n",
       "      <td>7.87</td>\n",
       "      <td>Adventure, Mystery, Comedy, Police, Shounen</td>\n",
       "      <td>Conan Edogawa is facing a dilemma: Ran Mouri h...</td>\n",
       "    </tr>\n",
       "    <tr>\n",
       "      <th>692</th>\n",
       "      <td>780</td>\n",
       "      <td>Detective Conan Movie 02: The Fourteenth Target</td>\n",
       "      <td>7.9</td>\n",
       "      <td>Adventure, Mystery, Comedy, Police, Shounen</td>\n",
       "      <td>mysterious attacker has appeared and is assaul...</td>\n",
       "    </tr>\n",
       "    <tr>\n",
       "      <th>693</th>\n",
       "      <td>781</td>\n",
       "      <td>Detective Conan Movie 03: The Last Wizard of t...</td>\n",
       "      <td>8.04</td>\n",
       "      <td>Adventure, Mystery, Comedy, Police, Shounen</td>\n",
       "      <td>Kaitou Kid dares to challenge the police once ...</td>\n",
       "    </tr>\n",
       "    <tr>\n",
       "      <th>...</th>\n",
       "      <td>...</td>\n",
       "      <td>...</td>\n",
       "      <td>...</td>\n",
       "      <td>...</td>\n",
       "      <td>...</td>\n",
       "    </tr>\n",
       "    <tr>\n",
       "      <th>13864</th>\n",
       "      <td>38770</td>\n",
       "      <td>Detective Conan Movie 23: The Fist of Blue Sap...</td>\n",
       "      <td>7.82</td>\n",
       "      <td>Action, Mystery, Comedy, Police, Drama, Shounen</td>\n",
       "      <td>23rd Detective Conan Movie.</td>\n",
       "    </tr>\n",
       "    <tr>\n",
       "      <th>13878</th>\n",
       "      <td>38788</td>\n",
       "      <td>Detective Conan: Amuro Secret Call</td>\n",
       "      <td>6.24</td>\n",
       "      <td>Mystery, Comedy, Police</td>\n",
       "      <td>Special two-part bonus video included on the L...</td>\n",
       "    </tr>\n",
       "    <tr>\n",
       "      <th>14520</th>\n",
       "      <td>39764</td>\n",
       "      <td>Detective Conan Movie 24: Hiiro no Dangan</td>\n",
       "      <td>Unknown</td>\n",
       "      <td>Action, Mystery, Comedy, Police, Drama, Shounen</td>\n",
       "      <td>24th Detective Conan Movie.</td>\n",
       "    </tr>\n",
       "    <tr>\n",
       "      <th>14816</th>\n",
       "      <td>40348</td>\n",
       "      <td>Shounen Sunday CM: Detective Conan</td>\n",
       "      <td>5.55</td>\n",
       "      <td>Mystery, Shounen</td>\n",
       "      <td>Detective Conan television commercial for Shou...</td>\n",
       "    </tr>\n",
       "    <tr>\n",
       "      <th>15667</th>\n",
       "      <td>42476</td>\n",
       "      <td>Detective Conan: The Burning Galactic Railway</td>\n",
       "      <td>Unknown</td>\n",
       "      <td>Adventure, Mystery, Kids</td>\n",
       "      <td>an, Sonoko, Conan, and the detective boys boar...</td>\n",
       "    </tr>\n",
       "  </tbody>\n",
       "</table>\n",
       "<p>73 rows × 5 columns</p>\n",
       "</div>"
      ],
      "text/plain": [
       "       MAL_ID                                               Name    Score  \\\n",
       "203       235                                    Detective Conan     8.16   \n",
       "270       302                                Mirai Shounen Conan     8.09   \n",
       "691       779     Detective Conan Movie 01: The Timed Skyscraper     7.87   \n",
       "692       780    Detective Conan Movie 02: The Fourteenth Target      7.9   \n",
       "693       781  Detective Conan Movie 03: The Last Wizard of t...     8.04   \n",
       "...       ...                                                ...      ...   \n",
       "13864   38770  Detective Conan Movie 23: The Fist of Blue Sap...     7.82   \n",
       "13878   38788                 Detective Conan: Amuro Secret Call     6.24   \n",
       "14520   39764          Detective Conan Movie 24: Hiiro no Dangan  Unknown   \n",
       "14816   40348                 Shounen Sunday CM: Detective Conan     5.55   \n",
       "15667   42476      Detective Conan: The Burning Galactic Railway  Unknown   \n",
       "\n",
       "                                                Genres  \\\n",
       "203        Adventure, Mystery, Comedy, Police, Shounen   \n",
       "270                           Adventure, Drama, Sci-Fi   \n",
       "691        Adventure, Mystery, Comedy, Police, Shounen   \n",
       "692        Adventure, Mystery, Comedy, Police, Shounen   \n",
       "693        Adventure, Mystery, Comedy, Police, Shounen   \n",
       "...                                                ...   \n",
       "13864  Action, Mystery, Comedy, Police, Drama, Shounen   \n",
       "13878                          Mystery, Comedy, Police   \n",
       "14520  Action, Mystery, Comedy, Police, Drama, Shounen   \n",
       "14816                                 Mystery, Shounen   \n",
       "15667                         Adventure, Mystery, Kids   \n",
       "\n",
       "                                               sypnopsis  \n",
       "203    Shinichi Kudou, a high school student of astou...  \n",
       "270    Conan was the only child born on Remnant Islan...  \n",
       "691    Conan Edogawa is facing a dilemma: Ran Mouri h...  \n",
       "692    mysterious attacker has appeared and is assaul...  \n",
       "693    Kaitou Kid dares to challenge the police once ...  \n",
       "...                                                  ...  \n",
       "13864                        23rd Detective Conan Movie.  \n",
       "13878  Special two-part bonus video included on the L...  \n",
       "14520                        24th Detective Conan Movie.  \n",
       "14816  Detective Conan television commercial for Shou...  \n",
       "15667  an, Sonoko, Conan, and the detective boys boar...  \n",
       "\n",
       "[73 rows x 5 columns]"
      ]
     },
     "execution_count": 10,
     "metadata": {},
     "output_type": "execute_result"
    }
   ],
   "source": [
    "anime_description[anime_description.Name.str.contains('Conan')]"
   ]
  },
  {
   "cell_type": "code",
   "execution_count": null,
   "id": "2e02217f",
   "metadata": {},
   "outputs": [],
   "source": []
  }
 ],
 "metadata": {
  "kernelspec": {
   "display_name": "VectorSearch",
   "language": "python",
   "name": "python3"
  },
  "language_info": {
   "codemirror_mode": {
    "name": "ipython",
    "version": 3
   },
   "file_extension": ".py",
   "mimetype": "text/x-python",
   "name": "python",
   "nbconvert_exporter": "python",
   "pygments_lexer": "ipython3",
   "version": "3.11.13"
  }
 },
 "nbformat": 4,
 "nbformat_minor": 5
}
